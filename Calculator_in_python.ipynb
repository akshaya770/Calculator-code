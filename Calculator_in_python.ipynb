{
  "nbformat": 4,
  "nbformat_minor": 0,
  "metadata": {
    "colab": {
      "provenance": [],
      "authorship_tag": "ABX9TyPSUg4YX24KNL/7H6o/mQZf",
      "include_colab_link": true
    },
    "kernelspec": {
      "name": "python3",
      "display_name": "Python 3"
    },
    "language_info": {
      "name": "python"
    }
  },
  "cells": [
    {
      "cell_type": "markdown",
      "metadata": {
        "id": "view-in-github",
        "colab_type": "text"
      },
      "source": [
        "<a href=\"https://colab.research.google.com/github/akshaya770/Calculator-code/blob/main/Calculator_in_python.ipynb\" target=\"_parent\"><img src=\"https://colab.research.google.com/assets/colab-badge.svg\" alt=\"Open In Colab\"/></a>"
      ]
    },
    {
      "cell_type": "code",
      "execution_count": null,
      "metadata": {
        "id": "ZFI-zq66uoJE"
      },
      "outputs": [],
      "source": [
        "# Function for addition\n",
        "def add(x, y):\n",
        "    return x + y\n",
        "\n",
        "# Function for subtraction\n",
        "def subtract(x, y):\n",
        "    return x - y\n",
        "\n",
        "# Function for multiplication\n",
        "def multiply(x, y):\n",
        "    return x * y\n",
        "\n",
        "# Function for division\n",
        "def divide(x, y):\n",
        "    if y != 0:\n",
        "        return x / y\n",
        "    else:\n",
        "        return \"Error! Division by zero.\"\n",
        "\n",
        "# Main program\n",
        "def calculator():\n",
        "    print(\"Select operation:\")\n",
        "    print(\"1. Add\")\n",
        "    print(\"2. Subtract\")\n",
        "    print(\"3. Multiply\")\n",
        "    print(\"4. Divide\")\n",
        "\n",
        "    # Take user input for operation choice\n",
        "    choice = input(\"Enter choice(1/2/3/4): \")\n",
        "\n",
        "    # Take user input for numbers\n",
        "    num1 = float(input(\"Enter first number: \"))\n",
        "    num2 = float(input(\"Enter second number: \"))\n",
        "\n",
        "    # Perform calculation based on choice\n",
        "    if choice == '1':\n",
        "        print(f\"{num1} + {num2} = {add(num1, num2)}\")\n",
        "    elif choice == '2':\n",
        "        print(f\"{num1} - {num2} = {subtract(num1, num2)}\")\n",
        "    elif choice == '3':\n",
        "        print(f\"{num1} * {num2} = {multiply(num1, num2)}\")\n",
        "    elif choice == '4':\n",
        "        print(f\"{num1} / {num2} = {divide(num1, num2)}\")\n",
        "    else:\n",
        "        print(\"Invalid input\")\n",
        "\n",
        "# Call the calculator function\n",
        "calculator()\n"
      ]
    }
  ]
}